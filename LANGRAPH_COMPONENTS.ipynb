{
 "cells": [
  {
   "cell_type": "code",
   "execution_count": 2,
   "id": "90b42166",
   "metadata": {},
   "outputs": [],
   "source": [
    "from typing_extensions import TypedDict\n",
    "from typing import Literal\n",
    "\n",
    "class TypeDictState(TypedDict):\n",
    "    name:str\n",
    "    game: Literal[\"football\",\"tennis\"]\n",
    "\n"
   ]
  },
  {
   "cell_type": "code",
   "execution_count": 28,
   "id": "35ba9373",
   "metadata": {},
   "outputs": [],
   "source": [
    "import random\n",
    "\n",
    "def play_game(state:TypeDictState):\n",
    "    print(\"... Play Game node has been called\")\n",
    "    return{\"name\":state[\"name\"]+ \"want to play\"}\n",
    "\n",
    "def football(state:TypeDictState):\n",
    "    print(\"... footbal node has been called\")\n",
    "    return{\"name\":state[\"name\"],\"game\":\"football\"}\n",
    "\n",
    "def tennis(state:TypeDictState):\n",
    "    print(\"... tennis node has been called\")\n",
    "    return{\"name\":state[\"name\"], \"game\":\"tennis\"}\n",
    "\n",
    "def decide_game(state:TypeDictState)->Literal[\"football\",\"tennis\"]:\n",
    "    \n",
    "    if random.random()>0.5:\n",
    "        return 'football'\n",
    "    else:\n",
    "        return 'tennis'"
   ]
  },
  {
   "cell_type": "code",
   "execution_count": 30,
   "id": "9e96be9c",
   "metadata": {},
   "outputs": [
    {
     "data": {
      "image/png": "[encoded data removed]",
      "text/plain": [
       "<IPython.core.display.Image object>"
      ]
     },
     "metadata": {},
     "output_type": "display_data"
    }
   ],
   "source": [
    "from IPython.display import Image, display\n",
    "from langgraph.graph import StateGraph,START,END\n",
    "\n",
    "builder = StateGraph(TypeDictState)\n",
    "builder.add_node(\"playgame\", play_game)\n",
    "builder.add_node(\"football\", football)\n",
    "builder.add_node(\"tennis\", tennis)\n",
    "\n",
    "builder.add_edge(START,\"playgame\")\n",
    "builder.add_conditional_edges(\"playgame\",decide_game)\n",
    "builder.add_edge(\"football\",END)\n",
    "builder.add_edge(\"tennis\",END)\n",
    "\n",
    "graph=builder.compile()\n",
    "\n",
    "display(Image(graph.get_graph().draw_mermaid_png()))"
   ]
  },
  {
   "cell_type": "code",
   "execution_count": 33,
   "id": "05b82448",
   "metadata": {},
   "outputs": [
    {
     "name": "stdout",
     "output_type": "stream",
     "text": [
      "... Play Game node has been called\n",
      "... tennis node has been called\n"
     ]
    },
    {
     "data": {
      "text/plain": [
       "{'name': 'Etiennewant to play', 'game': 'tennis'}"
      ]
     },
     "execution_count": 33,
     "metadata": {},
     "output_type": "execute_result"
    }
   ],
   "source": [
    "graph.invoke({\"name\":\"Etienne\"})"
   ]
  },
  {
   "cell_type": "code",
   "execution_count": 46,
   "id": "16f6df20",
   "metadata": {},
   "outputs": [],
   "source": [
    "### DataClasses\n",
    "\n",
    "from dataclasses import dataclass\n",
    "\n",
    "@dataclass\n",
    "class DataClassState():\n",
    "    name:str\n",
    "    game: Literal[\"football\",\"tennis\"]\n"
   ]
  },
  {
   "cell_type": "code",
   "execution_count": 47,
   "id": "d4179a11",
   "metadata": {},
   "outputs": [],
   "source": [
    "\n",
    "import random\n",
    "\n",
    "def play_game(state:DataClassState):\n",
    "    print(\"... Play Game node has been called\")\n",
    "    return{\"name\":state.name+ \"want to play\"}\n",
    "\n",
    "def football(state:DataClassState):\n",
    "    print(\"... footbal node has been called\")\n",
    "    return{\"name\":state.name,\"game\":\"football\"}\n",
    "\n",
    "def tennis(state:DataClassState):\n",
    "    print(\"... tennis node has been called\")\n",
    "    return{\"name\":state.name, \"game\":\"tennis\"}\n",
    "\n",
    "def decide_game(state:DataClassState)->Literal[\"football\",\"tennis\"]:\n",
    "    \n",
    "    if random.random()>0.5:\n",
    "        return 'football'\n",
    "    else:\n",
    "        return 'tennis'"
   ]
  },
  {
   "cell_type": "code",
   "execution_count": 48,
   "id": "a4205103",
   "metadata": {},
   "outputs": [
    {
     "data": {
      "image/png": "[encoded data removed]",
      "text/plain": [
       "<IPython.core.display.Image object>"
      ]
     },
     "metadata": {},
     "output_type": "display_data"
    }
   ],
   "source": [
    "from IPython.display import Image, display\n",
    "from langgraph.graph import StateGraph,START,END\n",
    "\n",
    "builder = StateGraph(DataClassState)\n",
    "builder.add_node(\"playgame\", play_game)\n",
    "builder.add_node(\"football\", football)\n",
    "builder.add_node(\"tennis\", tennis)\n",
    "\n",
    "builder.add_edge(START,\"playgame\")\n",
    "builder.add_conditional_edges(\"playgame\",decide_game)\n",
    "builder.add_edge(\"football\",END)\n",
    "builder.add_edge(\"tennis\",END)\n",
    "\n",
    "graph=builder.compile()\n",
    "\n",
    "display(Image(graph.get_graph().draw_mermaid_png()))"
   ]
  },
  {
   "cell_type": "code",
   "execution_count": 49,
   "id": "696a5dfd",
   "metadata": {},
   "outputs": [
    {
     "name": "stdout",
     "output_type": "stream",
     "text": [
      "... Play Game node has been called\n",
      "... footbal node has been called\n"
     ]
    },
    {
     "data": {
      "text/plain": [
       "{'name': 'Etiennewant to play', 'game': 'football'}"
      ]
     },
     "execution_count": 49,
     "metadata": {},
     "output_type": "execute_result"
    }
   ],
   "source": [
    "graph.invoke(DataClassState(name = \"Etienne\", game=\"football\"))"
   ]
  }
 ],
 "metadata": {
  "kernelspec": {
   "display_name": "Langgraph",
   "language": "python",
   "name": "python3"
  },
  "language_info": {
   "codemirror_mode": {
    "name": "ipython",
    "version": 3
   },
   "file_extension": ".py",
   "mimetype": "text/x-python",
   "name": "python",
   "nbconvert_exporter": "python",
   "pygments_lexer": "ipython3",
   "version": "3.13.7"
  }
 },
 "nbformat": 4,
 "nbformat_minor": 5
}

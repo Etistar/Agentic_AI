{
 "cells": [
  {
   "cell_type": "code",
   "execution_count": 8,
   "id": "9d762314",
   "metadata": {},
   "outputs": [],
   "source": [
    "## Build a simple Workflow or Graph Using LangGraph\n",
    "\n",
    "#State\n",
    "from typing_extensions import TypedDict\n",
    "\n",
    "class State(TypedDict):\n",
    "    graph_info:str"
   ]
  },
  {
   "cell_type": "code",
   "execution_count": null,
   "id": "37a71887",
   "metadata": {},
   "outputs": [],
   "source": [
    "#Node\n",
    "\n",
    "def start_play(state:State):\n",
    "    print(\"Start_play node has been called\")\n",
    "    return{\"graph_info\":state['graph_info'] + \"I am planning to play\"}\n",
    "\n",
    "def tennis(state:State):\n",
    "    print(\"My cricket node has been called\")\n",
    "    return{\"graph_info\":state['graph_info'] + \"I am planning to play tennis\"}\n",
    "\n",
    "def football(state:State):\n",
    "    print(\"My cricket node has been called:{graph_info}\")\n",
    "    \n",
    "    return{\"graph_info\":state['graph_info'] + \"I am planning to play football\"}\n"
   ]
  },
  {
   "cell_type": "code",
   "execution_count": null,
   "id": "ce04ca90",
   "metadata": {},
   "outputs": [],
   "source": [
    "import random\n",
    "from typing import Literal\n",
    "\n",
    "def random_play(state:State)-> Literal[\"tennis\", 'football']:\n",
    "    graph_info=state[\"graph_info\"]\n",
    "    print(graph_info)\n",
    "    if random.random()>0.5:\n",
    "        return \"football\"\n",
    "    else:\n",
    "        return \"tennis\""
   ]
  },
  {
   "cell_type": "code",
   "execution_count": null,
   "id": "4fc45503",
   "metadata": {},
   "outputs": [],
   "source": []
  },
  {
   "cell_type": "code",
   "execution_count": 17,
   "id": "a8c125de",
   "metadata": {},
   "outputs": [],
   "source": [
    "from IPython.display import Image, display\n",
    "from langgraph.graph import StateGraph,START,END\n",
    "\n",
    "#Build Graph\n",
    "graph=StateGraph(State)\n",
    "\n",
    "#Adding the nodes\n",
    "\n",
    "graph.add_node(\"start_play\",start_play)\n",
    "graph.add_node(\"football\", football)\n",
    "graph.add_node(\"tennis\",tennis)\n",
    "\n",
    "##Schedule the flow of the graph\n",
    "graph.add_edge(START, \"start_play\")\n",
    "graph.add_conditional_edges(\"start_play\", random_play)\n",
    "graph.add_edge(\"football\",END)\n",
    "graph.add_edge(\"tennis\",END)\n",
    "\n",
    "\n",
    "# Compile the graph\n",
    "graph_builder=graph.compile()\n"
   ]
  },
  {
   "cell_type": "code",
   "execution_count": 23,
   "id": "a05c29b9",
   "metadata": {},
   "outputs": [
    {
     "data": {
      "image/png": "[encoded data removed]",
      "text/plain": [
       "<IPython.core.display.Image object>"
      ]
     },
     "metadata": {},
     "output_type": "display_data"
    }
   ],
   "source": [
    "#View\n",
    "display(Image(graph_builder.get_graph().draw_mermaid_png()))"
   ]
  },
  {
   "cell_type": "code",
   "execution_count": 24,
   "id": "3f20a5cd",
   "metadata": {},
   "outputs": [
    {
     "name": "stdout",
     "output_type": "stream",
     "text": [
      "Start_play node has been called\n",
      "My cricket node has been called\n"
     ]
    },
    {
     "data": {
      "text/plain": [
       "{'graph_info': 'My name is Etienne and I am planning to playI am planning to play football'}"
      ]
     },
     "execution_count": 24,
     "metadata": {},
     "output_type": "execute_result"
    }
   ],
   "source": [
    "## GRAPH Invocation\n",
    "graph_builder.invoke({\"graph_info\":\"My name is Etienne and \"})"
   ]
  }
 ],
 "metadata": {
  "kernelspec": {
   "display_name": "Langgraph",
   "language": "python",
   "name": "python3"
  },
  "language_info": {
   "codemirror_mode": {
    "name": "ipython",
    "version": 3
   },
   "file_extension": ".py",
   "mimetype": "text/x-python",
   "name": "python",
   "nbconvert_exporter": "python",
   "pygments_lexer": "ipython3",
   "version": "3.13.7"
  }
 },
 "nbformat": 4,
 "nbformat_minor": 5
}

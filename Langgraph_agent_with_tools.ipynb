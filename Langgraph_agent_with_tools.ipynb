{
 "cells": [
  {
   "cell_type": "markdown",
   "id": "9dc68a79",
   "metadata": {},
   "source": [
    "# Chain using langGraph\n",
    "\n",
    "How to use chat messages as our graph state\n",
    "How to use chat models in graphs models\n",
    "How to bind tools to our LLM in chat models\n",
    "How to execute the tools call in our graph nodes"
   ]
  },
  {
   "cell_type": "code",
   "execution_count": 87,
   "id": "bbb7bdf2",
   "metadata": {},
   "outputs": [],
   "source": [
    "import os\n",
    "from dotenv import load_dotenv\n",
    "load_dotenv()\n",
    "load_dotenv(dotenv_path=\"C:/Users/hp/Documents/GenAI/.env.txt\")\n",
    "\n",
    "os.environ[\"GROQ_API_KEY\"] = os.getenv(\"GROQ_API_KEY\")  \n"
   ]
  },
  {
   "cell_type": "code",
   "execution_count": 88,
   "id": "3a59f58e",
   "metadata": {},
   "outputs": [
    {
     "name": "stdout",
     "output_type": "stream",
     "text": [
      "==================================\u001b[1m Ai Message \u001b[0m==================================\n",
      "Name: LLMmodel\n",
      "\n",
      "Please tell me how can I help\n",
      "================================\u001b[1m Human Message \u001b[0m=================================\n",
      "Name: Etienne\n",
      "\n",
      "I want to learn coding\n"
     ]
    }
   ],
   "source": [
    "from langchain_core.messages import AIMessage, HumanMessage\n",
    "from pprint import pprint\n",
    "\n",
    "messages=[AIMessage(content=\"Please tell me how can I help\", name=\"LLMmodel\")]\n",
    "messages.append(HumanMessage(content=f\"I want to learn coding\",name=\"Etienne\"))\n",
    "#messages.append(AIMessage(content=f\"which programming language you want to learn\",name=\"LLMmodel\"))\n",
    "\n",
    "\n",
    "for message in messages:\n",
    "    message.pretty_print()"
   ]
  },
  {
   "cell_type": "code",
   "execution_count": 90,
   "id": "fd9db454",
   "metadata": {},
   "outputs": [
    {
     "data": {
      "text/plain": [
       "'Learning to code can be a rewarding and challenging experience. Here are some steps to help you get started:\\n\\n1. **Choose a programming language**: With so many languages out there, it can be hard to decide which one to learn first. Some popular choices for beginners include:\\n\\t* Python: Known for its simplicity and versatility.\\n\\t* JavaScript: Used for web development, game development, and mobile app development.\\n\\t* HTML/CSS: Not a programming language, but essential for building websites and web applications.\\n2. **Get the right resources**:\\n\\t* Online courses: Websites like Codecademy, Coursera, and Udemy offer interactive coding lessons.\\n\\t* Books: \"Code Complete\" by Steve McConnell, \"Clean Code\" by Robert C. Martin, and \"Introduction to Algorithms\" by Thomas H. Cormen are highly recommended.\\n\\t* Communities: Join online forums like GitHub, Stack Overflow, or Reddit\\'s r/learnprogramming to connect with other coders.\\n3. **Set up a coding environment**:\\n\\t* Choose a text editor or IDE (Integrated Development Environment) like Visual Studio Code, Sublime Text, or IntelliJ IDEA.\\n\\t* Install any necessary software or plugins for your chosen language.\\n4. **Start with the basics**:\\n\\t* Learn the syntax and data types of your chosen language.\\n\\t* Practice writing simple programs, such as calculators or games.\\n5. **Build projects**:\\n\\t* As you gain experience, start building more complex projects, like a personal website or a simple game.\\n\\t* This will help you apply your new skills and learn by doing.\\n6. **Join online communities and find a mentor**:\\n\\t* Connect with other coders to get feedback, advice, and support.\\n\\t* Find a mentor who can guide you and provide valuable insights.\\n\\nSome popular online resources for learning to code include:\\n\\n* Codecademy (codecademy.com)\\n* FreeCodeCamp (freecodecamp.org)\\n* Coursera (coursera.org)\\n* edX (edx.org)\\n* GitHub (github.com)\\n\\nRemember, learning to code takes time, patience, and practice. Don\\'t be afraid to make mistakes – they\\'re an essential part of the learning process.\\n\\nWhat\\'s your motivation for learning to code? Are you interested in a specific area, like web development or mobile app development?'"
      ]
     },
     "execution_count": 90,
     "metadata": {},
     "output_type": "execute_result"
    }
   ],
   "source": [
    "#Chat Models\n",
    "from langchain_groq import ChatGroq\n",
    "llm=ChatGroq(model=\"llama-3.3-70b-versatile\")\n",
    "result=llm.invoke(messages)\n",
    "result.content\n"
   ]
  },
  {
   "cell_type": "code",
   "execution_count": 91,
   "id": "662da3e2",
   "metadata": {},
   "outputs": [
    {
     "data": {
      "text/plain": [
       "{'token_usage': {'completion_tokens': 482,\n",
       "  'prompt_tokens': 52,\n",
       "  'total_tokens': 534,\n",
       "  'completion_time': 0.90839827,\n",
       "  'prompt_time': 0.011719238,\n",
       "  'queue_time': 0.194789649,\n",
       "  'total_time': 0.920117508},\n",
       " 'model_name': 'llama-3.3-70b-versatile',\n",
       " 'system_fingerprint': 'fp_6507bcfb6f',\n",
       " 'service_tier': 'on_demand',\n",
       " 'finish_reason': 'stop',\n",
       " 'logprobs': None}"
      ]
     },
     "execution_count": 91,
     "metadata": {},
     "output_type": "execute_result"
    }
   ],
   "source": [
    "result.response_metadata"
   ]
  },
  {
   "cell_type": "code",
   "execution_count": 92,
   "id": "d55fe23e",
   "metadata": {},
   "outputs": [
    {
     "data": {
      "text/plain": [
       "2"
      ]
     },
     "execution_count": 92,
     "metadata": {},
     "output_type": "execute_result"
    }
   ],
   "source": [
    "## Tools\n",
    "\n",
    "def add(a:int,b:int)->int:\n",
    "    \"\"\" Add a and b\n",
    "Args:\n",
    "    a(int):first int\n",
    "    b(int):second int\n",
    "Returns:\n",
    "    int\n",
    "    \"\"\"\n",
    "    return a+b\n",
    "add(1,1)"
   ]
  },
  {
   "cell_type": "code",
   "execution_count": 93,
   "id": "3a02130b",
   "metadata": {},
   "outputs": [
    {
     "data": {
      "text/plain": [
       "AIMessage(content='', additional_kwargs={'tool_calls': [{'id': '5tn6kxvps', 'function': {'arguments': '{\"a\":2,\"b\":2}', 'name': 'add'}, 'type': 'function'}]}, response_metadata={'token_usage': {'completion_tokens': 15, 'prompt_tokens': 267, 'total_tokens': 282, 'completion_time': 0.031513241, 'prompt_time': 0.033601635, 'queue_time': 0.195463297, 'total_time': 0.065114876}, 'model_name': 'llama-3.3-70b-versatile', 'system_fingerprint': 'fp_3f3b593e33', 'service_tier': 'on_demand', 'finish_reason': 'tool_calls', 'logprobs': None}, id='run--c151b6a0-cba8-43a6-a0a4-f021eb2077d8-0', tool_calls=[{'name': 'add', 'args': {'a': 2, 'b': 2}, 'id': '5tn6kxvps', 'type': 'tool_call'}], usage_metadata={'input_tokens': 267, 'output_tokens': 15, 'total_tokens': 282})"
      ]
     },
     "execution_count": 93,
     "metadata": {},
     "output_type": "execute_result"
    }
   ],
   "source": [
    "###  Binding llm with tools\n",
    "\n",
    "llm_with_tools=llm.bind_tools([add])\n",
    "\n",
    "tool_call=llm_with_tools.invoke([HumanMessage(content=\"what is 2+ 2\", name=\"Etienne\")])\n",
    "tool_call"
   ]
  },
  {
   "cell_type": "code",
   "execution_count": 94,
   "id": "313ad5a1",
   "metadata": {},
   "outputs": [],
   "source": [
    "##Using messages as state\n",
    "\n",
    "from typing_extensions import TypedDict\n",
    "from langchain_core.messages import AnyMessage\n",
    "from langgraph.graph.message import add_messages\n",
    "from typing import Annotated\n",
    "\n",
    "#class state(TypedDict):\n",
    "#    message:list[AnyMessage]\n",
    "\n",
    "class State(TypedDict):\n",
    "    messages:Annotated[list[AnyMessage],add_messages]\n",
    "    name:str\n"
   ]
  },
  {
   "cell_type": "code",
   "execution_count": 95,
   "id": "877be6f6",
   "metadata": {},
   "outputs": [],
   "source": [
    "## Reducers with add_messages\n",
    "initial_messages=[AIMessage(content=\"Please tell me how can I help\", name=\"LLMmodel\")]\n",
    "initial_messages.append(HumanMessage(content=f\"I want to learn coding\",name=\"Etienne\"))\n",
    "\n",
    "ai_message=AIMessage(content=f\"which programming language you want to learn\",name=\"LLMmodel\")"
   ]
  },
  {
   "cell_type": "code",
   "execution_count": 96,
   "id": "612e6418",
   "metadata": {},
   "outputs": [
    {
     "data": {
      "text/plain": [
       "[AIMessage(content='Please tell me how can I help', additional_kwargs={}, response_metadata={}, name='LLMmodel', id='d556478c-d264-47ae-8e28-367df854c68f'),\n",
       " HumanMessage(content='I want to learn coding', additional_kwargs={}, response_metadata={}, name='Etienne', id='594f024c-071b-4582-b8e1-d4a4a0076f30'),\n",
       " AIMessage(content='which programming language you want to learn', additional_kwargs={}, response_metadata={}, name='LLMmodel', id='dfceda0f-10d4-4d94-8d42-00fe9477496e')]"
      ]
     },
     "execution_count": 96,
     "metadata": {},
     "output_type": "execute_result"
    }
   ],
   "source": [
    "# APPEND IT INSTEAD TO OVERWRITE\n",
    "add_messages(initial_messages,ai_message)"
   ]
  },
  {
   "cell_type": "code",
   "execution_count": 97,
   "id": "825bbee4",
   "metadata": {},
   "outputs": [],
   "source": [
    "def llm_tool(state: State):\n",
    "    response = llm_with_tools.invoke(state[\"messages\"])\n",
    "    return {\"messages\": state[\"messages\"] + [response]}\n"
   ]
  },
  {
   "cell_type": "code",
   "execution_count": 98,
   "id": "603118a9",
   "metadata": {},
   "outputs": [
    {
     "data": {
      "image/png": "[encoded data removed]",
      "text/plain": [
       "<IPython.core.display.Image object>"
      ]
     },
     "metadata": {},
     "output_type": "display_data"
    }
   ],
   "source": [
    "from IPython.display import Image, display\n",
    "from langgraph.graph import StateGraph,START,END\n",
    "\n",
    "builder = StateGraph(State)\n",
    "builder.add_node(\"llm_tool\", llm_tool)\n",
    "\n",
    "\n",
    "builder.add_edge(START,\"llm_tool\")\n",
    "builder.add_edge(\"llm_tool\",END)\n",
    "\n",
    "\n",
    "graph=builder.compile()\n",
    "\n",
    "display(Image(graph.get_graph().draw_mermaid_png()))"
   ]
  },
  {
   "cell_type": "code",
   "execution_count": 99,
   "id": "c9d5e64c",
   "metadata": {},
   "outputs": [
    {
     "name": "stdout",
     "output_type": "stream",
     "text": [
      "================================\u001b[1m Human Message \u001b[0m=================================\n",
      "\n",
      "what is the result of 2+2\n",
      "==================================\u001b[1m Ai Message \u001b[0m==================================\n",
      "\n",
      "<function=add{\"a\":2,\"b\":2}</function>\n"
     ]
    }
   ],
   "source": [
    "messages=graph.invoke({'messages':\"what is the result of 2+2\"})\n",
    "\n",
    "for message in messages[\"messages\"]:\n",
    "    message.pretty_print()"
   ]
  },
  {
   "cell_type": "code",
   "execution_count": 100,
   "id": "9ce47292",
   "metadata": {},
   "outputs": [
    {
     "data": {
      "image/png": "[encoded data removed]",
      "text/plain": [
       "<IPython.core.display.Image object>"
      ]
     },
     "metadata": {},
     "output_type": "display_data"
    }
   ],
   "source": [
    "from langgraph.prebuilt import ToolNode, tools_condition\n",
    "\n",
    "tools=[add]\n",
    "builder = StateGraph(State)\n",
    "builder.add_node(\"llm_tool\", llm_tool)\n",
    "builder.add_node(\"tools\", ToolNode(tools))\n",
    "\n",
    "# Add Edge\n",
    "builder.add_edge(START,\"llm_tool\")\n",
    "builder.add_conditional_edges(\"llm_tool\",\n",
    "    tools_condition)\n",
    "    \n",
    "\n",
    "builder.add_edge(\"tools\",END)\n",
    "\n",
    "\n",
    "graph=builder.compile()\n",
    "\n",
    "display(Image(graph.get_graph().draw_mermaid_png()))"
   ]
  },
  {
   "cell_type": "code",
   "execution_count": 101,
   "id": "ed20aeaa",
   "metadata": {},
   "outputs": [
    {
     "name": "stdout",
     "output_type": "stream",
     "text": [
      "================================\u001b[1m Human Message \u001b[0m=================================\n",
      "\n",
      "what is the result of 2+2\n",
      "==================================\u001b[1m Ai Message \u001b[0m==================================\n",
      "Tool Calls:\n",
      "  add (jnws8x1yg)\n",
      " Call ID: jnws8x1yg\n",
      "  Args:\n",
      "    a: 2\n",
      "    b: 2\n",
      "=================================\u001b[1m Tool Message \u001b[0m=================================\n",
      "Name: add\n",
      "\n",
      "4\n"
     ]
    }
   ],
   "source": [
    "messages=graph.invoke({'messages':\"what is the result of 2+2\"})\n",
    "\n",
    "for message in messages[\"messages\"]:\n",
    "    message.pretty_print()"
   ]
  },
  {
   "cell_type": "code",
   "execution_count": 103,
   "id": "e1bd9492",
   "metadata": {},
   "outputs": [
    {
     "name": "stdout",
     "output_type": "stream",
     "text": [
      "================================\u001b[1m Human Message \u001b[0m=================================\n",
      "\n",
      "what is machine learning\n",
      "==================================\u001b[1m Ai Message \u001b[0m==================================\n",
      "\n",
      "Machine learning is a subset of artificial intelligence (AI) that involves the use of algorithms and statistical models to enable machines to perform a specific task without being explicitly programmed. It allows systems to learn from data, identify patterns, and make predictions or decisions with minimal human intervention.\n",
      "\n",
      "Machine learning involves training a model on a dataset, which enables the model to learn from the data and improve its performance on a specific task. The goal of machine learning is to develop models that can generalize well to new, unseen data, and make accurate predictions or decisions.\n",
      "\n",
      "There are several types of machine learning, including:\n",
      "\n",
      "1. **Supervised learning**: The model is trained on labeled data, where the correct output is already known. The model learns to map inputs to outputs based on the labeled data.\n",
      "2. **Unsupervised learning**: The model is trained on unlabeled data, and it must find patterns or structure in the data on its own.\n",
      "3. **Reinforcement learning**: The model learns through trial and error by interacting with an environment and receiving rewards or penalties for its actions.\n",
      "\n",
      "Machine learning has many applications, including:\n",
      "\n",
      "1. **Image recognition**: Machine learning models can be trained to recognize objects, faces, and patterns in images.\n",
      "2. **Natural language processing**: Machine learning models can be trained to understand and generate human language.\n",
      "3. **Speech recognition**: Machine learning models can be trained to recognize spoken words and phrases.\n",
      "4. **Predictive maintenance**: Machine learning models can be trained to predict when equipment is likely to fail, allowing for proactive maintenance.\n",
      "5. **Recommendation systems**: Machine learning models can be trained to recommend products or services based on a user's past behavior and preferences.\n",
      "\n",
      "Some of the key benefits of machine learning include:\n",
      "\n",
      "1. **Improved accuracy**: Machine learning models can achieve high accuracy on complex tasks, often surpassing human performance.\n",
      "2. **Increased efficiency**: Machine learning models can automate repetitive tasks, freeing up human time and resources.\n",
      "3. **Personalization**: Machine learning models can be trained to provide personalized recommendations and experiences.\n",
      "4. **Scalability**: Machine learning models can be trained on large datasets and deployed on a large scale.\n",
      "\n",
      "However, machine learning also has some challenges and limitations, including:\n",
      "\n",
      "1. **Data quality**: Machine learning models are only as good as the data they are trained on, and poor data quality can lead to poor model performance.\n",
      "2. **Bias and fairness**: Machine learning models can perpetuate biases and discrimination if they are trained on biased data.\n",
      "3. **Explainability**: Machine learning models can be difficult to interpret and understand, making it challenging to explain their decisions.\n",
      "4. **Security**: Machine learning models can be vulnerable to attacks and data breaches, which can compromise their performance and security.\n"
     ]
    }
   ],
   "source": [
    "messages=graph.invoke({'messages':\"what is machine learning\"})\n",
    "\n",
    "for message in messages[\"messages\"]:\n",
    "    message.pretty_print()"
   ]
  }
 ],
 "metadata": {
  "kernelspec": {
   "display_name": "Langgraph",
   "language": "python",
   "name": "python3"
  },
  "language_info": {
   "codemirror_mode": {
    "name": "ipython",
    "version": 3
   },
   "file_extension": ".py",
   "mimetype": "text/x-python",
   "name": "python",
   "nbconvert_exporter": "python",
   "pygments_lexer": "ipython3",
   "version": "3.13.7"
  }
 },
 "nbformat": 4,
 "nbformat_minor": 5
}
